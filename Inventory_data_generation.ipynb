{
 "cells": [
  {
   "cell_type": "markdown",
   "id": "6a1b1bfb",
   "metadata": {},
   "source": [
    "In this ipynb the goal is to generate a synthetic data of demand and supply in inventories for a test environment "
   ]
  },
  {
   "cell_type": "code",
   "execution_count": 1,
   "id": "5b4ac398",
   "metadata": {},
   "outputs": [],
   "source": [
    "import pandas as pd\n",
    "import random"
   ]
  },
  {
   "cell_type": "code",
   "execution_count": 2,
   "id": "d3618570",
   "metadata": {},
   "outputs": [],
   "source": [
    "\n",
    "# Load products table\n",
    "df_products = pd.read_csv(\"products_table.csv\")\n",
    "product_ids = df_products[\"ProductID\"].tolist()\n",
    "\n",
    "def random_date(start, end):\n",
    "    #Generate random date between start and end\n",
    "    return start + pd.to_timedelta(random.randint(0, (end - start).days), unit='d')\n",
    "\n",
    "def generate_inventory(inv_id):\n",
    "    #Generate one inventory record with injected issues\n",
    "    product_id = random.choice(product_ids)\n",
    "    product_row = df_products[df_products[\"ProductID\"] == product_id].iloc[0]\n",
    "    \n",
    "    warehouse = product_row[\"WarehouseLocation\"]\n",
    "    \n",
    "    # Normal values\n",
    "    demand = random.randint(50, 500)\n",
    "    availability = max(0, demand - random.randint(0, 500))\n",
    "    \n",
    "    # Inject nulls (5% chance each)\n",
    "    if random.random() < 0.05:\n",
    "        demand = None\n",
    "    if random.random() < 0.05:\n",
    "        availability = None\n",
    "    \n",
    "    # Inject outliers (2% chance each, only if not None)\n",
    "    if demand is not None and random.random() < 0.02:\n",
    "        demand *= 100\n",
    "    if availability is not None and random.random() < 0.02:\n",
    "        availability *= 50\n",
    "    \n",
    "    return {\n",
    "        \"InvID\": inv_id,\n",
    "        \"ProductID\": product_id,\n",
    "        \"ProductName\": product_row[\"ProductName\"],\n",
    "        \"WarehouseLocation\": warehouse,\n",
    "        \"Availability\": availability,\n",
    "        \"Demand\": demand,\n",
    "        \"OrderDate\": random_date(pd.Timestamp(\"2022-01-01\"), pd.Timestamp(\"2024-09-01\"))\n",
    "    }\n"
   ]
  },
  {
   "cell_type": "code",
   "execution_count": 3,
   "id": "db1abced",
   "metadata": {},
   "outputs": [],
   "source": [
    "def generate_inventory_dataset(num_rows, filename):\n",
    "    \"\"\"Generate full inventory dataset with duplicates + save to CSV\"\"\"\n",
    "    inventory_records = [generate_inventory(i+1) for i in range(num_rows)]\n",
    "    df_inventory = pd.DataFrame(inventory_records)\n",
    "\n",
    "    # Inject duplicates (2% of dataset)\n",
    "    num_duplicates = int(0.02 * len(df_inventory))\n",
    "    duplicates = df_inventory.sample(num_duplicates)\n",
    "    df_inventory = pd.concat([df_inventory, duplicates], ignore_index=True)\n",
    "\n",
    "    # Save dataset\n",
    "    df_inventory.to_csv(filename, index=False)\n",
    "    print(f\"✅ Generated {len(df_inventory)} rows → {filename}\")"
   ]
  },
  {
   "cell_type": "code",
   "execution_count": 4,
   "id": "4cd447ff",
   "metadata": {},
   "outputs": [
    {
     "name": "stdout",
     "output_type": "stream",
     "text": [
      "✅ Generated 5100 rows → inventory_test_with_issues.csv\n",
      "✅ Generated 51000 rows → inventory_production_with_issues.csv\n"
     ]
    }
   ],
   "source": [
    "# Generate test dataset (5,000 rows)\n",
    "generate_inventory_dataset(5000, \"inventory_test_with_issues.csv\")\n",
    "\n",
    "# Generate production dataset (50,000 rows)\n",
    "generate_inventory_dataset(50000, \"inventory_production_with_issues.csv\")\n"
   ]
  },
  {
   "cell_type": "code",
   "execution_count": null,
   "id": "e16179ec",
   "metadata": {},
   "outputs": [],
   "source": []
  },
  {
   "cell_type": "code",
   "execution_count": null,
   "id": "5d24778c",
   "metadata": {},
   "outputs": [],
   "source": []
  }
 ],
 "metadata": {
  "kernelspec": {
   "display_name": "Python 3",
   "language": "python",
   "name": "python3"
  },
  "language_info": {
   "codemirror_mode": {
    "name": "ipython",
    "version": 3
   },
   "file_extension": ".py",
   "mimetype": "text/x-python",
   "name": "python",
   "nbconvert_exporter": "python",
   "pygments_lexer": "ipython3",
   "version": "3.12.0"
  }
 },
 "nbformat": 4,
 "nbformat_minor": 5
}
